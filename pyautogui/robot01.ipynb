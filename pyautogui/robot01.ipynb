{
 "cells": [
  {
   "cell_type": "code",
   "execution_count": 12,
   "id": "7a48a9d7",
   "metadata": {},
   "outputs": [
    {
     "ename": "KeyboardInterrupt",
     "evalue": "",
     "output_type": "error",
     "traceback": [
      "\u001b[31m---------------------------------------------------------------------------\u001b[39m",
      "\u001b[31mKeyboardInterrupt\u001b[39m                         Traceback (most recent call last)",
      "\u001b[36mCell\u001b[39m\u001b[36m \u001b[39m\u001b[32mIn[12]\u001b[39m\u001b[32m, line 6\u001b[39m\n\u001b[32m      1\u001b[39m \u001b[38;5;28;01mimport\u001b[39;00m\u001b[38;5;250m \u001b[39m\u001b[34;01mpyautogui\u001b[39;00m\n\u001b[32m      4\u001b[39m pyautogui.size()\n\u001b[32m----> \u001b[39m\u001b[32m6\u001b[39m \u001b[43mpyautogui\u001b[49m\u001b[43m.\u001b[49m\u001b[43mposition\u001b[49m\u001b[43m(\u001b[49m\u001b[43m)\u001b[49m\n",
      "\u001b[36mFile \u001b[39m\u001b[32m~/projetos/python_examples/.venv/lib/python3.12/site-packages/pyautogui/__init__.py:767\u001b[39m, in \u001b[36mposition\u001b[39m\u001b[34m(x, y)\u001b[39m\n\u001b[32m    752\u001b[39m \u001b[38;5;28;01mdef\u001b[39;00m\u001b[38;5;250m \u001b[39m\u001b[34mposition\u001b[39m(x=\u001b[38;5;28;01mNone\u001b[39;00m, y=\u001b[38;5;28;01mNone\u001b[39;00m):\n\u001b[32m    753\u001b[39m \u001b[38;5;250m    \u001b[39m\u001b[33;03m\"\"\"\u001b[39;00m\n\u001b[32m    754\u001b[39m \u001b[33;03m    Returns the current xy coordinates of the mouse cursor as a two-integer tuple.\u001b[39;00m\n\u001b[32m    755\u001b[39m \n\u001b[32m   (...)\u001b[39m\u001b[32m    765\u001b[39m \u001b[33;03m    NOTE: The position() function doesn't check for failsafe.\u001b[39;00m\n\u001b[32m    766\u001b[39m \u001b[33;03m    \"\"\"\u001b[39;00m\n\u001b[32m--> \u001b[39m\u001b[32m767\u001b[39m     posx, posy = \u001b[43mplatformModule\u001b[49m\u001b[43m.\u001b[49m\u001b[43m_position\u001b[49m\u001b[43m(\u001b[49m\u001b[43m)\u001b[49m\n\u001b[32m    768\u001b[39m     posx = \u001b[38;5;28mint\u001b[39m(posx)\n\u001b[32m    769\u001b[39m     posy = \u001b[38;5;28mint\u001b[39m(posy)\n",
      "\u001b[36mFile \u001b[39m\u001b[32m~/projetos/python_examples/.venv/lib/python3.12/site-packages/pyautogui/_pyautogui_x11.py:33\u001b[39m, in \u001b[36m_position\u001b[39m\u001b[34m()\u001b[39m\n\u001b[32m     26\u001b[39m \u001b[38;5;28;01mdef\u001b[39;00m\u001b[38;5;250m \u001b[39m\u001b[34m_position\u001b[39m():\n\u001b[32m     27\u001b[39m \u001b[38;5;250m    \u001b[39m\u001b[33;03m\"\"\"Returns the current xy coordinates of the mouse cursor as a two-integer\u001b[39;00m\n\u001b[32m     28\u001b[39m \u001b[33;03m    tuple.\u001b[39;00m\n\u001b[32m     29\u001b[39m \n\u001b[32m     30\u001b[39m \u001b[33;03m    Returns:\u001b[39;00m\n\u001b[32m     31\u001b[39m \u001b[33;03m      (x, y) tuple of the current xy coordinates of the mouse cursor.\u001b[39;00m\n\u001b[32m     32\u001b[39m \u001b[33;03m    \"\"\"\u001b[39;00m\n\u001b[32m---> \u001b[39m\u001b[32m33\u001b[39m     coord = \u001b[43m_display\u001b[49m\u001b[43m.\u001b[49m\u001b[43mscreen\u001b[49m\u001b[43m(\u001b[49m\u001b[43m)\u001b[49m\u001b[43m.\u001b[49m\u001b[43mroot\u001b[49m\u001b[43m.\u001b[49m\u001b[43mquery_pointer\u001b[49m\u001b[43m(\u001b[49m\u001b[43m)\u001b[49m._data\n\u001b[32m     34\u001b[39m     \u001b[38;5;28;01mreturn\u001b[39;00m coord[\u001b[33m\"\u001b[39m\u001b[33mroot_x\u001b[39m\u001b[33m\"\u001b[39m], coord[\u001b[33m\"\u001b[39m\u001b[33mroot_y\u001b[39m\u001b[33m\"\u001b[39m]\n",
      "\u001b[36mFile \u001b[39m\u001b[32m~/projetos/python_examples/.venv/lib/python3.12/site-packages/Xlib/xobject/drawable.py:561\u001b[39m, in \u001b[36mWindow.query_pointer\u001b[39m\u001b[34m(self)\u001b[39m\n\u001b[32m    560\u001b[39m \u001b[38;5;28;01mdef\u001b[39;00m\u001b[38;5;250m \u001b[39m\u001b[34mquery_pointer\u001b[39m(\u001b[38;5;28mself\u001b[39m):\n\u001b[32m--> \u001b[39m\u001b[32m561\u001b[39m     \u001b[38;5;28;01mreturn\u001b[39;00m \u001b[43mrequest\u001b[49m\u001b[43m.\u001b[49m\u001b[43mQueryPointer\u001b[49m\u001b[43m(\u001b[49m\u001b[43mdisplay\u001b[49m\u001b[43m \u001b[49m\u001b[43m=\u001b[49m\u001b[43m \u001b[49m\u001b[38;5;28;43mself\u001b[39;49m\u001b[43m.\u001b[49m\u001b[43mdisplay\u001b[49m\u001b[43m,\u001b[49m\n\u001b[32m    562\u001b[39m \u001b[43m                                \u001b[49m\u001b[43mwindow\u001b[49m\u001b[43m \u001b[49m\u001b[43m=\u001b[49m\u001b[43m \u001b[49m\u001b[38;5;28;43mself\u001b[39;49m\u001b[43m.\u001b[49m\u001b[43mid\u001b[49m\u001b[43m)\u001b[49m\n",
      "\u001b[36mFile \u001b[39m\u001b[32m~/projetos/python_examples/.venv/lib/python3.12/site-packages/Xlib/protocol/rq.py:1481\u001b[39m, in \u001b[36mReplyRequest.__init__\u001b[39m\u001b[34m(self, display, defer, *args, **keys)\u001b[39m\n\u001b[32m   1479\u001b[39m \u001b[38;5;28mself\u001b[39m._display.send_request(\u001b[38;5;28mself\u001b[39m, \u001b[32m1\u001b[39m)\n\u001b[32m   1480\u001b[39m \u001b[38;5;28;01mif\u001b[39;00m \u001b[38;5;129;01mnot\u001b[39;00m defer:\n\u001b[32m-> \u001b[39m\u001b[32m1481\u001b[39m     \u001b[38;5;28;43mself\u001b[39;49m\u001b[43m.\u001b[49m\u001b[43mreply\u001b[49m\u001b[43m(\u001b[49m\u001b[43m)\u001b[49m\n",
      "\u001b[36mFile \u001b[39m\u001b[32m~/projetos/python_examples/.venv/lib/python3.12/site-packages/Xlib/protocol/rq.py:1493\u001b[39m, in \u001b[36mReplyRequest.reply\u001b[39m\u001b[34m(self)\u001b[39m\n\u001b[32m   1490\u001b[39m     \u001b[38;5;28mself\u001b[39m._display.send_recv_lock.acquire()\n\u001b[32m   1491\u001b[39m     \u001b[38;5;28mself\u001b[39m._response_lock.release()\n\u001b[32m-> \u001b[39m\u001b[32m1493\u001b[39m     \u001b[38;5;28;43mself\u001b[39;49m\u001b[43m.\u001b[49m\u001b[43m_display\u001b[49m\u001b[43m.\u001b[49m\u001b[43msend_and_recv\u001b[49m\u001b[43m(\u001b[49m\u001b[43mrequest\u001b[49m\u001b[43m \u001b[49m\u001b[43m=\u001b[49m\u001b[43m \u001b[49m\u001b[38;5;28;43mself\u001b[39;49m\u001b[43m.\u001b[49m\u001b[43m_serial\u001b[49m\u001b[43m)\u001b[49m\n\u001b[32m   1494\u001b[39m     \u001b[38;5;28mself\u001b[39m._response_lock.acquire()\n\u001b[32m   1496\u001b[39m \u001b[38;5;28mself\u001b[39m._response_lock.release()\n",
      "\u001b[36mFile \u001b[39m\u001b[32m~/projetos/python_examples/.venv/lib/python3.12/site-packages/Xlib/protocol/display.py:344\u001b[39m, in \u001b[36mDisplay.send_and_recv\u001b[39m\u001b[34m(self, flush, event, request, recv)\u001b[39m\n\u001b[32m    340\u001b[39m     \u001b[38;5;28mself\u001b[39m.socket_error = error.ConnectionClosedError(whom)\n\u001b[32m    341\u001b[39m     \u001b[38;5;28mself\u001b[39m.socket_error_lock.release()\n\u001b[32m--> \u001b[39m\u001b[32m344\u001b[39m \u001b[38;5;28;01mdef\u001b[39;00m\u001b[38;5;250m \u001b[39m\u001b[34msend_and_recv\u001b[39m(\u001b[38;5;28mself\u001b[39m, flush = \u001b[38;5;28;01mNone\u001b[39;00m, event = \u001b[38;5;28;01mNone\u001b[39;00m, request = \u001b[38;5;28;01mNone\u001b[39;00m, recv = \u001b[38;5;28;01mNone\u001b[39;00m):\n\u001b[32m    345\u001b[39m \u001b[38;5;250m    \u001b[39m\u001b[33;03m\"\"\"send_and_recv(flush = None, event = None, request = None, recv = None)\u001b[39;00m\n\u001b[32m    346\u001b[39m \n\u001b[32m    347\u001b[39m \u001b[33;03m    Perform I/O, or wait for some other thread to do it for us.\u001b[39;00m\n\u001b[32m   (...)\u001b[39m\u001b[32m    369\u001b[39m \u001b[33;03m    until it is finished.\u001b[39;00m\n\u001b[32m    370\u001b[39m \u001b[33;03m    \"\"\"\u001b[39;00m\n\u001b[32m    372\u001b[39m     \u001b[38;5;66;03m# We go to sleep if there is already a thread doing what we\u001b[39;00m\n\u001b[32m    373\u001b[39m     \u001b[38;5;66;03m# want to do:\u001b[39;00m\n\u001b[32m    374\u001b[39m \n\u001b[32m   (...)\u001b[39m\u001b[32m    380\u001b[39m     \u001b[38;5;66;03m#  If waiting for an event, we want to recv\u001b[39;00m\n\u001b[32m    381\u001b[39m     \u001b[38;5;66;03m#  If just trying to receive anything we can, we want to recv\u001b[39;00m\n",
      "\u001b[31mKeyboardInterrupt\u001b[39m: "
     ]
    }
   ],
   "source": [
    "import pyautogui\n",
    "\n",
    "\n",
    "pyautogui.size()\n",
    "\n",
    "pyautogui.position()"
   ]
  }
 ],
 "metadata": {
  "kernelspec": {
   "display_name": ".venv",
   "language": "python",
   "name": "python3"
  },
  "language_info": {
   "codemirror_mode": {
    "name": "ipython",
    "version": 3
   },
   "file_extension": ".py",
   "mimetype": "text/x-python",
   "name": "python",
   "nbconvert_exporter": "python",
   "pygments_lexer": "ipython3",
   "version": "3.12.3"
  }
 },
 "nbformat": 4,
 "nbformat_minor": 5
}
