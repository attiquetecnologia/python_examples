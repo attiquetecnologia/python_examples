{
 "cells": [
  {
   "cell_type": "code",
   "execution_count": null,
   "metadata": {},
   "outputs": [],
   "source": [
    "def mensagem():\n",
    "    print(\"Só exibe essa mensagem\")\n",
    "    \n",
    "mensagem()"
   ]
  },
  {
   "cell_type": "code",
   "execution_count": null,
   "metadata": {},
   "outputs": [],
   "source": [
    "def mensagem():\n",
    "    return \"Só exibe essa mensagem\"\n",
    "\n",
    "print(mensagem())"
   ]
  },
  {
   "cell_type": "code",
   "execution_count": null,
   "metadata": {},
   "outputs": [],
   "source": [
    "def menu():\n",
    "    return \"\"\"\n",
    "        Menu\n",
    "        1 - Opção\n",
    "        2 - Opção\n",
    "        3 - Sair\n",
    "    \"\"\"\n",
    "print(menu())"
   ]
  },
  {
   "cell_type": "code",
   "execution_count": 4,
   "metadata": {},
   "outputs": [
    {
     "name": "stdout",
     "output_type": "stream",
     "text": [
      "R$ 1390,99\n"
     ]
    }
   ],
   "source": [
    "def formato_moeda():\n",
    "    valor = 1390.99\n",
    "    valor = \"R$ {:.2f}\".format(valor)\n",
    "    # troca ponto por virgula\n",
    "    valor = valor.replace(\".\", \",\")\n",
    "    return f\"{valor}\"\n",
    "print(formato_moeda())"
   ]
  },
  {
   "cell_type": "code",
   "execution_count": null,
   "metadata": {},
   "outputs": [],
   "source": [
    "def formato_moeda(valor):\n",
    "    valor = \"R$ {:.2f}\".format(valor)\n",
    "    # troca ponto por virgula\n",
    "    valor = valor.replace(\".\", \",\")\n",
    "    return f\"{valor}\"\n",
    "print(formato_moeda(1390.99))"
   ]
  },
  {
   "cell_type": "code",
   "execution_count": null,
   "metadata": {},
   "outputs": [],
   "source": [
    "def media(dados=[]):\n",
    "    \"\"\" dados: Recebe lista a somar\n",
    "        return: somatorio/elementos \n",
    "    \"\"\"\n",
    "    return sum(dados)/len(dados)\n",
    "\n",
    "valores = [10, 9, 7]\n",
    "print(f\"A média entre 10, 9, 7 é {media(valores)}\")"
   ]
  },
  {
   "cell_type": "code",
   "execution_count": null,
   "metadata": {},
   "outputs": [],
   "source": [
    "def area_total(largura, altura):\n",
    "    return largura*altura\n",
    "\n",
    "area = area_total(10, 9)\n",
    "print(\"À área total é {area}m²\")"
   ]
  },
  {
   "cell_type": "code",
   "execution_count": null,
   "metadata": {},
   "outputs": [],
   "source": [
    "def formata(dia, mes, ano):\n",
    "    return f\"{dia}/{mes}/{ano}\"\n",
    "print(formata(10, 1, 2024))"
   ]
  },
  {
   "cell_type": "code",
   "execution_count": null,
   "metadata": {},
   "outputs": [],
   "source": []
  }
 ],
 "metadata": {
  "kernelspec": {
   "display_name": "Python 3",
   "language": "python",
   "name": "python3"
  },
  "language_info": {
   "codemirror_mode": {
    "name": "ipython",
    "version": 3
   },
   "file_extension": ".py",
   "mimetype": "text/x-python",
   "name": "python",
   "nbconvert_exporter": "python",
   "pygments_lexer": "ipython3",
   "version": "3.11.4"
  }
 },
 "nbformat": 4,
 "nbformat_minor": 2
}
