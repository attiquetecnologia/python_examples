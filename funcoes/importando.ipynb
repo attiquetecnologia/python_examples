{
 "cells": [
  {
   "cell_type": "code",
   "execution_count": 4,
   "metadata": {},
   "outputs": [
    {
     "name": "stdout",
     "output_type": "stream",
     "text": [
      "\n",
      "        Menu\n",
      "        1 - Opção\n",
      "        2 - Opção\n",
      "        3 - Sair\n",
      "    \n",
      "10/9/2024\n",
      "None\n"
     ]
    }
   ],
   "source": [
    "# import tudo (*)\n",
    "import funcoes\n",
    "\n",
    "print(funcoes.menu())\n",
    "print(funcoes.formata(10, 9, 2024))"
   ]
  },
  {
   "cell_type": "code",
   "execution_count": 6,
   "metadata": {},
   "outputs": [
    {
     "name": "stdout",
     "output_type": "stream",
     "text": [
      "\n",
      "        Menu\n",
      "        1 - Opção\n",
      "        2 - Opção\n",
      "        3 - Sair\n",
      "    \n",
      "10/9/2024\n",
      "None\n"
     ]
    }
   ],
   "source": [
    "from funcoes import *\n",
    "print(menu())\n",
    "print(formata(10, 9, 2024))"
   ]
  },
  {
   "cell_type": "code",
   "execution_count": 7,
   "metadata": {},
   "outputs": [
    {
     "name": "stdout",
     "output_type": "stream",
     "text": [
      "\n",
      "        Menu\n",
      "        1 - Opção\n",
      "        2 - Opção\n",
      "        3 - Sair\n",
      "    \n"
     ]
    }
   ],
   "source": [
    "from funcoes import menu\n",
    "print(menu())"
   ]
  },
  {
   "cell_type": "code",
   "execution_count": null,
   "metadata": {},
   "outputs": [],
   "source": [
    "from funcoes import menu, formata\n",
    "print(menu())\n",
    "print(formata(10, 9, 2024))"
   ]
  }
 ],
 "metadata": {
  "kernelspec": {
   "display_name": "Python 3",
   "language": "python",
   "name": "python3"
  },
  "language_info": {
   "codemirror_mode": {
    "name": "ipython",
    "version": 3
   },
   "file_extension": ".py",
   "mimetype": "text/x-python",
   "name": "python",
   "nbconvert_exporter": "python",
   "pygments_lexer": "ipython3",
   "version": "3.11.4"
  }
 },
 "nbformat": 4,
 "nbformat_minor": 2
}
